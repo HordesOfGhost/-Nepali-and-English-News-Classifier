{
 "cells": [
  {
   "cell_type": "code",
   "execution_count": null,
   "metadata": {},
   "outputs": [],
   "source": [
    "dict1={}\n",
    "def computeTf(docs_list):\n",
    "    tf_vec = []\n",
    "    tf_each_doc_vec = []\n",
    "    doc_word_count = len(docs_list)\n",
    "    count_each_word = Counter(docs_list)\n",
    "    for each_word,val in word_dict.items():\n",
    "        if each_word in docs_list:\n",
    "            count = count_each_word.get(each_word)\n",
    "            tf_vec.append(count/float(doc_word_count))\n",
    "        else:\n",
    "            tf_vec.append(0)\n",
    "    tf_each_doc_vec.append(tf_vec)\n",
    "    return tf_each_doc_vec"
   ]
  }
 ],
 "metadata": {
  "kernelspec": {
   "display_name": "news",
   "language": "python",
   "name": "python3"
  },
  "language_info": {
   "name": "python",
   "version": "3.8.15"
  },
  "orig_nbformat": 4,
  "vscode": {
   "interpreter": {
    "hash": "54d7853ee6fa0f00287d6366039c823ef0d7deed99bd833d3ec41cd5f7adce9b"
   }
  }
 },
 "nbformat": 4,
 "nbformat_minor": 2
}
