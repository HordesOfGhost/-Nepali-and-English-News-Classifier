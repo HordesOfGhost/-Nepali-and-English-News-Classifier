{
 "cells": [
  {
   "cell_type": "code",
   "execution_count": 1,
   "metadata": {},
   "outputs": [],
   "source": [
    "from bleu import list_bleu"
   ]
  },
  {
   "cell_type": "code",
   "execution_count": 2,
   "metadata": {},
   "outputs": [
    {
     "name": "stdout",
     "output_type": "stream",
     "text": [
      "[Info] Starting to run this command now: perl C:\\Users\\Ghost\\AppData\\Local\\Temp\\tmp_bleu\\multi-bleu-detok.perl C:\\Users\\Ghost\\AppData\\Local\\Temp\\tmp_bleu\\ref_dtk0.txt < C:\\Users\\Ghost\\AppData\\Local\\Temp\\tmp_bleu\\hyp_dtk0.txt \n"
     ]
    },
    {
     "data": {
      "text/plain": [
       "-1"
      ]
     },
     "execution_count": 2,
     "metadata": {},
     "output_type": "execute_result"
    }
   ],
   "source": [
    "from bleu import list_bleu\n",
    "ref = ['it is a white cat .',\n",
    "            'wow , this dog is huge .']\n",
    "ref1 = ['This cat is white .',\n",
    "            'wow , this is a huge dog .']\n",
    "hyp = ['it is a white kitten .',\n",
    "        'wowww , the dog is huge !']\n",
    "hyp1 = [\"it 's a white kitten .\",\n",
    "            'wow , this dog is huge !']\n",
    "list_bleu([ref], hyp)"
   ]
  },
  {
   "cell_type": "code",
   "execution_count": null,
   "metadata": {},
   "outputs": [],
   "source": []
  }
 ],
 "metadata": {
  "kernelspec": {
   "display_name": "news",
   "language": "python",
   "name": "python3"
  },
  "language_info": {
   "codemirror_mode": {
    "name": "ipython",
    "version": 3
   },
   "file_extension": ".py",
   "mimetype": "text/x-python",
   "name": "python",
   "nbconvert_exporter": "python",
   "pygments_lexer": "ipython3",
   "version": "3.8.15"
  },
  "orig_nbformat": 4,
  "vscode": {
   "interpreter": {
    "hash": "54d7853ee6fa0f00287d6366039c823ef0d7deed99bd833d3ec41cd5f7adce9b"
   }
  }
 },
 "nbformat": 4,
 "nbformat_minor": 2
}
