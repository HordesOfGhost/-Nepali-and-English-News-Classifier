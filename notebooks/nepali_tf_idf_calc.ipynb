{
 "cells": [
  {
   "cell_type": "code",
   "execution_count": 3,
   "metadata": {},
   "outputs": [],
   "source": [
    "import math"
   ]
  },
  {
   "cell_type": "code",
   "execution_count": null,
   "metadata": {},
   "outputs": [],
   "source": [
    "corpus=['होवार्ड स्नूकर खेल्न आक्रोशित कन्जरभेटिभ नेता माइकल होवार्डले स्नूकर हलमा आफ्ना स्कूलका साथीहरूसँग समय बिताउन ट्रन्ट खेल्ने गरेको स्वीकार गरेका छन्', ' श्री होवार्डले भने कि 1950 को दशकमा लानेलीको ज्याक स्नूकर हलमा उनको समयले उनलाई कुनै दिगो नोक्सान पुर्याएन', ' तर उनले टाइम्स शैक्षिक सप्लिमेन्टलाई भने कि ट्र्यान्सी धेरै नराम्रो थियो र दृढ कार्य आवश्यक छ भने']"
   ]
  },
  {
   "cell_type": "code",
   "execution_count": 4,
   "metadata": {},
   "outputs": [],
   "source": [
    "def calc_idf(self):\n",
    "    doc_count=len(self.paragraph)\n",
    "    df={}\n",
    "    idf={}\n",
    "    for char in self.col:\n",
    "        df[char]=0\n",
    "        idf[char]=0\n",
    "    #Calculating df\n",
    "    for i in range(0,len(self.col)):\n",
    "        for j in range(0,len(self.paragraph)):\n",
    "            if self.col[i] in self.paragraph[j]:\n",
    "                df[self.col[i]]+=1\n",
    "    #Calculating idf\n",
    "    for char in self.col:\n",
    "        idf[char]=math.log((doc_count+1)/(1+df[char]))+1\n",
    "    #print(idf)\n",
    "    #print(len(idf))\n",
    "    #print(\"\\n \\n \\n \\n\")\n",
    "    #print(idf)\n",
    "    return(idf)"
   ]
  },
  {
   "cell_type": "code",
   "execution_count": 5,
   "metadata": {},
   "outputs": [],
   "source": [
    "dict = {}\n",
    "for i in range(len(corpus)):\n",
    "    for t in corpus[i].split():\n",
    "        if t not in dict.keys():\n",
    "            dict[t] = 1\n",
    "        else:\n",
    "            dict[t] +=1\n"
   ]
  },
  {
   "cell_type": "code",
   "execution_count": 7,
   "metadata": {},
   "outputs": [],
   "source": [
    "col=[]\n",
    "for i in range(len(corpus)):\n",
    "    for t in corpus[i].split():\n",
    "        if t not in col:\n",
    "            col.append(t)"
   ]
  },
  {
   "cell_type": "code",
   "execution_count": 8,
   "metadata": {},
   "outputs": [
    {
     "data": {
      "text/plain": [
       "['होवार्ड',\n",
       " 'स्नूकर',\n",
       " 'खेल्न',\n",
       " 'आक्रोशित',\n",
       " 'कन्जरभेटिभ',\n",
       " 'नेता',\n",
       " 'माइकल',\n",
       " 'होवार्डले',\n",
       " 'हलमा',\n",
       " 'आफ्ना',\n",
       " 'स्कूलका',\n",
       " 'साथीहरूसँग',\n",
       " 'समय',\n",
       " 'बिताउन',\n",
       " 'ट्रन्ट',\n",
       " 'खेल्ने',\n",
       " 'गरेको',\n",
       " 'स्वीकार',\n",
       " 'गरेका',\n",
       " 'छन्',\n",
       " 'श्री',\n",
       " 'भने',\n",
       " 'कि',\n",
       " '1950',\n",
       " 'को',\n",
       " 'दशकमा',\n",
       " 'लानेलीको',\n",
       " 'ज्याक',\n",
       " 'उनको',\n",
       " 'समयले',\n",
       " 'उनलाई',\n",
       " 'कुनै',\n",
       " 'दिगो',\n",
       " 'नोक्सान',\n",
       " 'पुर्याएन',\n",
       " 'तर',\n",
       " 'उनले',\n",
       " 'टाइम्स',\n",
       " 'शैक्षिक',\n",
       " 'सप्लिमेन्टलाई',\n",
       " 'ट्र्यान्सी',\n",
       " 'धेरै',\n",
       " 'नराम्रो',\n",
       " 'थियो',\n",
       " 'र',\n",
       " 'दृढ',\n",
       " 'कार्य',\n",
       " 'आवश्यक',\n",
       " 'छ']"
      ]
     },
     "execution_count": 8,
     "metadata": {},
     "output_type": "execute_result"
    }
   ],
   "source": [
    "col"
   ]
  },
  {
   "cell_type": "code",
   "execution_count": 6,
   "metadata": {},
   "outputs": [
    {
     "data": {
      "text/plain": [
       "{'होवार्ड': 1,\n",
       " 'स्नूकर': 3,\n",
       " 'खेल्न': 1,\n",
       " 'आक्रोशित': 1,\n",
       " 'कन्जरभेटिभ': 1,\n",
       " 'नेता': 1,\n",
       " 'माइकल': 1,\n",
       " 'होवार्डले': 2,\n",
       " 'हलमा': 2,\n",
       " 'आफ्ना': 1,\n",
       " 'स्कूलका': 1,\n",
       " 'साथीहरूसँग': 1,\n",
       " 'समय': 1,\n",
       " 'बिताउन': 1,\n",
       " 'ट्रन्ट': 1,\n",
       " 'खेल्ने': 1,\n",
       " 'गरेको': 1,\n",
       " 'स्वीकार': 1,\n",
       " 'गरेका': 1,\n",
       " 'छन्': 1,\n",
       " 'श्री': 1,\n",
       " 'भने': 3,\n",
       " 'कि': 2,\n",
       " '1950': 1,\n",
       " 'को': 1,\n",
       " 'दशकमा': 1,\n",
       " 'लानेलीको': 1,\n",
       " 'ज्याक': 1,\n",
       " 'उनको': 1,\n",
       " 'समयले': 1,\n",
       " 'उनलाई': 1,\n",
       " 'कुनै': 1,\n",
       " 'दिगो': 1,\n",
       " 'नोक्सान': 1,\n",
       " 'पुर्याएन': 1,\n",
       " 'तर': 1,\n",
       " 'उनले': 1,\n",
       " 'टाइम्स': 1,\n",
       " 'शैक्षिक': 1,\n",
       " 'सप्लिमेन्टलाई': 1,\n",
       " 'ट्र्यान्सी': 1,\n",
       " 'धेरै': 1,\n",
       " 'नराम्रो': 1,\n",
       " 'थियो': 1,\n",
       " 'र': 1,\n",
       " 'दृढ': 1,\n",
       " 'कार्य': 1,\n",
       " 'आवश्यक': 1,\n",
       " 'छ': 1}"
      ]
     },
     "execution_count": 6,
     "metadata": {},
     "output_type": "execute_result"
    }
   ],
   "source": [
    "dict"
   ]
  },
  {
   "cell_type": "code",
   "execution_count": null,
   "metadata": {},
   "outputs": [],
   "source": []
  }
 ],
 "metadata": {
  "kernelspec": {
   "display_name": "news",
   "language": "python",
   "name": "python3"
  },
  "language_info": {
   "codemirror_mode": {
    "name": "ipython",
    "version": 3
   },
   "file_extension": ".py",
   "mimetype": "text/x-python",
   "name": "python",
   "nbconvert_exporter": "python",
   "pygments_lexer": "ipython3",
   "version": "3.8.15"
  },
  "orig_nbformat": 4,
  "vscode": {
   "interpreter": {
    "hash": "54d7853ee6fa0f00287d6366039c823ef0d7deed99bd833d3ec41cd5f7adce9b"
   }
  }
 },
 "nbformat": 4,
 "nbformat_minor": 2
}
