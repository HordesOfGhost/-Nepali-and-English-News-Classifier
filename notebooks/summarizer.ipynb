{
 "cells": [
  {
   "cell_type": "code",
   "execution_count": 335,
   "metadata": {},
   "outputs": [],
   "source": [
    "from nltk.corpus import stopwords\n",
    "from nltk.tokenize import word_tokenize\n",
    "from nltk.stem import WordNetLemmatizer\n",
    "from nltk.stem.porter import PorterStemmer\n",
    "from nltk.corpus import wordnet\n",
    "\n",
    "import numpy as np\n",
    "import math\n",
    "from sklearn.feature_extraction.text import TfidfVectorizer"
   ]
  },
  {
   "cell_type": "code",
   "execution_count": 336,
   "metadata": {},
   "outputs": [],
   "source": [
    "def ProcessText(text):\n",
    "    text=str(text)\n",
    "    #lowercasing\n",
    "    text=text.lower()\n",
    "    #Remove Stop Words\n",
    "    stop_words=set(stopwords.words('english'))\n",
    "    word_tokens = word_tokenize(text)\n",
    "    filtered_list = [w for w in word_tokens if not w in stop_words]\n",
    "    \n",
    "    \n",
    "    #Remove numbers and special Symbols\n",
    "    #words like 100m 2m were not removed so using this\n",
    "    num=['0','1','2','3','4','5','6','7','8','9']\n",
    "    num_filter=[]\n",
    "    for i in range(0,len(filtered_list)):\n",
    "        for j in range(0,len(num)):\n",
    "            if num[j] in filtered_list[i]:\n",
    "                num_filter.append(filtered_list[i])\n",
    "                break\n",
    "    \n",
    "    for filter in num_filter:\n",
    "        filtered_list.remove(filter)\n",
    "                \n",
    "    filtered_list = [w for w in filtered_list if w.isalnum()]\n",
    "    filtered_list=  [w for w in filtered_list if not w.isdigit()]\n",
    "    \n",
    "    \n",
    "    \n",
    "    #Lematizing\n",
    "    wordnet_lemmatizer=WordNetLemmatizer()\n",
    "    lemmatized_list=[wordnet_lemmatizer.lemmatize(w,wordnet.VERB) for w in filtered_list]\n",
    "    lemmatized_string=' '.join(lemmatized_list)\n",
    "    \n",
    "    return lemmatized_string"
   ]
  },
  {
   "cell_type": "code",
   "execution_count": 337,
   "metadata": {},
   "outputs": [],
   "source": [
    "vec=TfidfVectorizer(stop_words='english')"
   ]
  },
  {
   "cell_type": "code",
   "execution_count": 338,
   "metadata": {},
   "outputs": [],
   "source": [
    "def calc_tf_idf(text):\n",
    "    return vec.fit_transform(text).toarray()[0],vec.get_feature_names_out()"
   ]
  },
  {
   "cell_type": "code",
   "execution_count": 339,
   "metadata": {},
   "outputs": [],
   "source": [
    "text=\"wales silent on grand slam talk rhys williams says wales are still not thinking of winning the grand slam despite a third six nations win.   that s the last thing on our minds at the moment   said williams  a second- half replacement in saturday s 24-18 win over france in paris.  we all realise how difficult a task it is to go up to scotland and beat them.  we ve come unstuck there a couple of times recently so our focus is on that game and we ll worry about ireland hopefully after we ve beaten scotland.  with captain gareth thomas ruled out of the rest of the campaign with a broken thumb  williams is vying for his first start in the championship so far.  kevin morgan is probably favourite to replace thomas at full-back  leaving williams and hal luscombe to battle for the right wing berth. a hamstring injury denied luscombe the opportunity to make a third successive start  but the dragons winger is expected to be fit for the trip to murrayfield on 13 march. hooker robin mcbryde is doubtful after picking up a knee injury in paris  but centre sonny parker and flanker colin charvis are set to recover from injury to be in contention for selection. said wales assistant coach scott johnson:  they ve worked through the weekend and the reports are a bit more positive.  so we re getting a couple back and that adds to the depth of the squad.  scotland secured their first win of the campaign on saturday by grinding out an 18-10 win over italy.  matt williams  side has shown little in attack  but johnson insisted the scots will be difficult opposition to break down.  italy are really brave opposition and sometimes it s very hard to win   he said.  so an ugly win can be just as effective as a 30 or 40 point victory.  scotland are a hard side and very underrated so we re not taking anything for granted.  we re not basking in the glory of winning our first three games. we ve got to be diligent in our preparation.  that s my job and we ve got to make sure we re focused.\""
   ]
  },
  {
   "cell_type": "code",
   "execution_count": 340,
   "metadata": {},
   "outputs": [],
   "source": [
    "text=\"blair rejects iraq advice calls tony blair has rejected calls for the publication of advice on the legality of the iraq war amid growing calls for an investigation.  the prime minister told his monthly press conference the matter had been dealt with by the attorney general. earlier  conservative mp michael mates joined calls for a probe into claims lord goldsmith s statement to parliament was drawn up at number 10. mr blair said the statement was a  fair summary  of lord goldsmith s opinion.   that s what he (lord goldsmith) said and that s what i say. he has dealt with this time and time and time again   mr blair told his monthly news conference in downing street. he refused to answer further questions on the issue  saying it had been dealt with  literally scores of times and the position has not changed . lord goldsmith has denied being  leaned on  and says the words written were his.  the government refuses to publish his advice on the legality of the war - saying such papers have always been kept confidential. mr mates  who is a member of the commons intelligence and security committee and was part of the butler inquiry into pre-war intelligence  told the bbc on friday:  that  as a general rule  is right  but it s not an absolute rule.  he said there had been other occasions when advice had been published  most recently regarding prince charles s marriage plans. the government could not pick and choose when to use the convention  he said.  mr mates added:  we discovered that there were two or three occasions in the past when law officers  advice to the government has been published.  and this may be one of those special occasions... when it would be in the public interest to see the advice which the attorney general gave to the prime minister.  this is argument was rejected by mr blair  who said:  firstly  we haven t broken the precedent  and secondly peter goldsmith has made his statement and i have got absolutely nothing to add to it.  in a book published this week  philippe sands qc  a member of cherie blair s matrix chambers  says lord goldsmith warned tony blair on 7 march 2003 that the iraq war could be illegal without a second un resolution sanctioning military action.  but a short statement about lord goldsmith s position was presented in a written parliamentary answer on 17 march 2003 - just before a crucial commons vote on the military action. mr sands  book suggests it was actually written by home office minister lord falconer and downing street adviser baroness morgan. former minister clare short  who resigned from the government over the iraq war  said it was the same statement that was earlier shown to the cabinet as it discussed military action. she told the bbc the full advice should have been attached  according to the ministerial code.   my view is we need the house of lords to set up a special committee  summon the attorney  get all the papers out  look at exactly what happened   she said. the conservatives and liberal democrats say they want the publication of the full legal advice given by the attorney general. on thursday  lord goldsmith said his statement had not been  written by or at number 10 .  in my parliamentary answer on march 17 2003  i explained my genuinely held independent view  that military action was lawful under the existing security council resolutions   he said.\""
   ]
  },
  {
   "cell_type": "code",
   "execution_count": 341,
   "metadata": {},
   "outputs": [],
   "source": [
    "text=\"The alleged suicide of a television actress has been making headlines in India because of the circumstances surrounding her death and the arrest of her former boyfriend amid accusations of religious manipulation. Tunisha Sharma was found dead on 24 December in a toilet on the set of her show Alibaba - Dastaan-e-Kabul. A day later, her co-star and former boyfriend Sheezan Khan was arrested by police after Sharma's mother accused him of abetment to suicide - which he denies. Senior police official Chandrakant Jadhav has told reporters that Sharma took her own life, and that they are investigating what led her to do so. The 20-year-old's death has shocked India's entertainment industry - she was a rising star and had a huge fan following on social media. Just hours before her death, she had posted a photo of herself on Instagram with the caption \\\"those who are driven by their passion doesn't [don't] stop\\\". The post has more than 800,000 likes and thousands of comments, with fans expressing shock over her sudden death and wondering how a person who seemed \\\"so positive could take such a drastic step\\\". The tragic incident has been obsessively covered by the media, with the actress's life and relationships under the microscope. Live news pages have given minute-by-minute updates on every aspect of the police investigation. And everyone from Sharma's peers and friends to close family has been tapped for interviews, leading to a pool of stories rife with speculation and unverified claims.\""
   ]
  },
  {
   "cell_type": "code",
   "execution_count": 342,
   "metadata": {},
   "outputs": [],
   "source": [
    "processed_text=ProcessText(text)\n",
    "tf_idf,column=calc_tf_idf([processed_text])"
   ]
  },
  {
   "cell_type": "code",
   "execution_count": 343,
   "metadata": {},
   "outputs": [],
   "source": [
    "tf_idf_dict={}\n",
    "for i in range(len(tf_idf)):\n",
    "    tf_idf_dict[column[i]]=tf_idf[i]"
   ]
  },
  {
   "cell_type": "code",
   "execution_count": 344,
   "metadata": {},
   "outputs": [],
   "source": [
    "def sentence_count(word):\n",
    "    cnt=word.count(\".\")+1\n",
    "    return cnt"
   ]
  },
  {
   "cell_type": "code",
   "execution_count": 345,
   "metadata": {},
   "outputs": [
    {
     "data": {
      "text/plain": [
       "11"
      ]
     },
     "execution_count": 345,
     "metadata": {},
     "output_type": "execute_result"
    }
   ],
   "source": [
    "count_sentence=sentence_count(text)\n",
    "count_sentence"
   ]
  },
  {
   "cell_type": "code",
   "execution_count": 346,
   "metadata": {},
   "outputs": [],
   "source": [
    "def calc_idf(paragraph):\n",
    "    col=vec.get_feature_names_out()\n",
    "    doc_count=len(paragraph)\n",
    "    df={}\n",
    "    idf={}\n",
    "    for char in col:\n",
    "        df[char]=0\n",
    "        idf[char]=0\n",
    "    #Calculating df\n",
    "    for i in range(0,len(col)):\n",
    "        for j in range(0,len(paragraph)):\n",
    "            if col[i] in paragraph[j]:\n",
    "                df[col[i]]+=1\n",
    "    #Calculating idf\n",
    "    for char in col:\n",
    "        idf[char]=math.log((doc_count+1)/(1+df[char]))+1\n",
    "    return(idf)\n",
    "def calc_tf_idf(txt,paragraph):\n",
    "    idf=calc_idf(paragraph)\n",
    "    \n",
    "    tf_idf={}\n",
    "    word_count={}\n",
    "    col=vec.get_feature_names_out()\n",
    "    for ch in col:\n",
    "        tf_idf[ch]=0\n",
    "        word_count[ch]=0\n",
    "    #Calculating tf\n",
    "    words = txt.split()\n",
    "    for ch in words:\n",
    "        if ch in col:\n",
    "            if ch in word_count:\n",
    "                word_count[ch] += 1\n",
    "            else:\n",
    "                word_count[ch] = 1\n",
    "   \n",
    "    rough_tfidf=list(col)\n",
    "    for keys in word_count.keys():\n",
    "        tf_idf[keys]=idf[keys]*word_count[keys]\n",
    "        if keys in rough_tfidf:\n",
    "            index=rough_tfidf.index(keys)\n",
    "            rough_tfidf[index]=tf_idf[keys]\n",
    "    norm=0\n",
    "    for i in range(0,len(rough_tfidf)):\n",
    "        norm+=rough_tfidf[i]**2\n",
    "    if norm==0:\n",
    "        norm=1\n",
    "    for i in range(0,len(rough_tfidf)):\n",
    "        rough_tfidf[i]=round(rough_tfidf[i]/math.sqrt(norm),8)\n",
    "    return rough_tfidf"
   ]
  },
  {
   "cell_type": "code",
   "execution_count": 347,
   "metadata": {},
   "outputs": [],
   "source": [
    "idf_statement=calc_idf(text)"
   ]
  },
  {
   "cell_type": "code",
   "execution_count": 348,
   "metadata": {},
   "outputs": [],
   "source": [
    "each_sentence=text.split(\".\")"
   ]
  },
  {
   "cell_type": "code",
   "execution_count": 355,
   "metadata": {},
   "outputs": [],
   "source": [
    "each_sentence.remove('')"
   ]
  },
  {
   "cell_type": "code",
   "execution_count": 356,
   "metadata": {},
   "outputs": [
    {
     "data": {
      "text/plain": [
       "['The alleged suicide of a television actress has been making headlines in India because of the circumstances surrounding her death and the arrest of her former boyfriend amid accusations of religious manipulation',\n",
       " ' Tunisha Sharma was found dead on 24 December in a toilet on the set of her show Alibaba - Dastaan-e-Kabul',\n",
       " \" A day later, her co-star and former boyfriend Sheezan Khan was arrested by police after Sharma's mother accused him of abetment to suicide - which he denies\",\n",
       " ' Senior police official Chandrakant Jadhav has told reporters that Sharma took her own life, and that they are investigating what led her to do so',\n",
       " \" The 20-year-old's death has shocked India's entertainment industry - she was a rising star and had a huge fan following on social media\",\n",
       " ' Just hours before her death, she had posted a photo of herself on Instagram with the caption \"those who are driven by their passion doesn\\'t [don\\'t] stop\"',\n",
       " ' The post has more than 800,000 likes and thousands of comments, with fans expressing shock over her sudden death and wondering how a person who seemed \"so positive could take such a drastic step\"',\n",
       " \" The tragic incident has been obsessively covered by the media, with the actress's life and relationships under the microscope\",\n",
       " ' Live news pages have given minute-by-minute updates on every aspect of the police investigation',\n",
       " \" And everyone from Sharma's peers and friends to close family has been tapped for interviews, leading to a pool of stories rife with speculation and unverified claims\"]"
      ]
     },
     "execution_count": 356,
     "metadata": {},
     "output_type": "execute_result"
    }
   ],
   "source": [
    "each_sentence"
   ]
  },
  {
   "cell_type": "code",
   "execution_count": 349,
   "metadata": {},
   "outputs": [],
   "source": [
    "tmp=calc_tf_idf(each_sentence[0],processed_text)"
   ]
  },
  {
   "cell_type": "code",
   "execution_count": 350,
   "metadata": {},
   "outputs": [],
   "source": [
    "each_tfidf=[]\n",
    "tf_idf_score=[]\n",
    "for i in range(len(each_sentence)):\n",
    "    each_tfidf.append(calc_tf_idf(each_sentence[i],processed_text))\n",
    "for i in range(len(each_tfidf)):\n",
    "    each_tfidf[i]=np.array(each_tfidf[i])\n",
    "    tf_idf_score.append(each_tfidf[i].sum())"
   ]
  },
  {
   "cell_type": "code",
   "execution_count": 351,
   "metadata": {},
   "outputs": [
    {
     "data": {
      "text/plain": [
       "[2.44948974, 2.82842712, 2.82842712, 2.82842712, 3.31662474]"
      ]
     },
     "execution_count": 351,
     "metadata": {},
     "output_type": "execute_result"
    }
   ],
   "source": [
    "tf_idf_score=sorted(tf_idf_score)\n",
    "selection=tf_idf_score[-5:]\n",
    "selection"
   ]
  },
  {
   "cell_type": "code",
   "execution_count": 352,
   "metadata": {},
   "outputs": [],
   "source": [
    "summarized=\"\"\n",
    "if count_sentence < 6:\n",
    "    for i in range(count_sentence):\n",
    "        summarized+= each_sentence[i]\n",
    "        summarized+= \"||\"\n",
    "else:\n",
    "    for i in range(count_sentence):\n",
    "        for j in range(len(selection)):\n",
    "            if selection[j]==tf_idf_score[i]:\n",
    "                summarized += each_sentence[i]\n",
    "                summarized += \"||\"\n",
    "                break       "
   ]
  },
  {
   "cell_type": "code",
   "execution_count": 353,
   "metadata": {},
   "outputs": [
    {
     "data": {
      "text/plain": [
       "' Just hours before her death, she had posted a photo of herself on Instagram with the caption \"those who are driven by their passion doesn\\'t [don\\'t] stop\"|| The post has more than 800,000 likes and thousands of comments, with fans expressing shock over her sudden death and wondering how a person who seemed \"so positive could take such a drastic step\"|| The tragic incident has been obsessively covered by the media, with the actress\\'s life and relationships under the microscope|| Live news pages have given minute-by-minute updates on every aspect of the police investigation|| And everyone from Sharma\\'s peers and friends to close family has been tapped for interviews, leading to a pool of stories rife with speculation and unverified claims||||'"
      ]
     },
     "execution_count": 353,
     "metadata": {},
     "output_type": "execute_result"
    }
   ],
   "source": [
    "summarized"
   ]
  },
  {
   "cell_type": "code",
   "execution_count": null,
   "metadata": {},
   "outputs": [],
   "source": []
  }
 ],
 "metadata": {
  "kernelspec": {
   "display_name": "news",
   "language": "python",
   "name": "python3"
  },
  "language_info": {
   "codemirror_mode": {
    "name": "ipython",
    "version": 3
   },
   "file_extension": ".py",
   "mimetype": "text/x-python",
   "name": "python",
   "nbconvert_exporter": "python",
   "pygments_lexer": "ipython3",
   "version": "3.8.15"
  },
  "orig_nbformat": 4,
  "vscode": {
   "interpreter": {
    "hash": "54d7853ee6fa0f00287d6366039c823ef0d7deed99bd833d3ec41cd5f7adce9b"
   }
  }
 },
 "nbformat": 4,
 "nbformat_minor": 2
}
