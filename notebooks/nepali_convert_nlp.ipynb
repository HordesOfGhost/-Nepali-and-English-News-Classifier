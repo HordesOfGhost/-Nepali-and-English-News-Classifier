{
 "cells": [
  {
   "cell_type": "code",
   "execution_count": 3,
   "metadata": {},
   "outputs": [
    {
     "name": "stdout",
     "output_type": "stream",
     "text": [
      "Collecting git+https://github.com/sushil79g/Nepali_nlp.git"
     ]
    },
    {
     "name": "stderr",
     "output_type": "stream",
     "text": [
      "  Running command git clone --filter=blob:none --quiet https://github.com/sushil79g/Nepali_nlp.git 'C:\\Users\\Ghost\\AppData\\Local\\Temp\\pip-req-build-e_su5151'\n"
     ]
    },
    {
     "name": "stdout",
     "output_type": "stream",
     "text": [
      "\n",
      "  Cloning https://github.com/sushil79g/Nepali_nlp.git to c:\\users\\ghost\\appdata\\local\\temp\\pip-req-build-e_su5151\n",
      "  Resolved https://github.com/sushil79g/Nepali_nlp.git to commit 9feccc8331ce5f744a2b3157c8d1ea7c8231b2a4\n",
      "  Preparing metadata (setup.py): started\n",
      "  Preparing metadata (setup.py): finished with status 'done'\n",
      "Requirement already satisfied: gensim==3.7.3 in c:\\users\\ghost\\anaconda3\\envs\\news\\lib\\site-packages (from Nepali-nlp==0.0.0) (3.7.3)\n",
      "Requirement already satisfied: requests==2.22.0 in c:\\users\\ghost\\anaconda3\\envs\\news\\lib\\site-packages (from Nepali-nlp==0.0.0) (2.22.0)\n",
      "Requirement already satisfied: wget==3.2 in c:\\users\\ghost\\anaconda3\\envs\\news\\lib\\site-packages (from Nepali-nlp==0.0.0) (3.2)\n",
      "Requirement already satisfied: beautifulsoup4 in c:\\users\\ghost\\anaconda3\\envs\\news\\lib\\site-packages (from Nepali-nlp==0.0.0) (4.11.1)\n",
      "Requirement already satisfied: news-please in c:\\users\\ghost\\anaconda3\\envs\\news\\lib\\site-packages (from Nepali-nlp==0.0.0) (1.5.22)\n",
      "Requirement already satisfied: pytesseract in c:\\users\\ghost\\anaconda3\\envs\\news\\lib\\site-packages (from Nepali-nlp==0.0.0) (0.3.10)\n",
      "Requirement already satisfied: spello==1.2.0 in c:\\users\\ghost\\anaconda3\\envs\\news\\lib\\site-packages (from Nepali-nlp==0.0.0) (1.2.0)\n",
      "Requirement already satisfied: snowballstemmer in c:\\users\\ghost\\anaconda3\\envs\\news\\lib\\site-packages (from Nepali-nlp==0.0.0) (2.2.0)\n",
      "Requirement already satisfied: tensorflow in c:\\users\\ghost\\anaconda3\\envs\\news\\lib\\site-packages (from Nepali-nlp==0.0.0) (2.11.0)\n",
      "Requirement already satisfied: sentencepiece in c:\\users\\ghost\\anaconda3\\envs\\news\\lib\\site-packages (from Nepali-nlp==0.0.0) (0.1.97)\n",
      "Requirement already satisfied: sklearn in c:\\users\\ghost\\anaconda3\\envs\\news\\lib\\site-packages (from Nepali-nlp==0.0.0) (0.0.post1)\n",
      "Requirement already satisfied: pydload in c:\\users\\ghost\\anaconda3\\envs\\news\\lib\\site-packages (from Nepali-nlp==0.0.0) (1.0.9)\n",
      "Requirement already satisfied: tensorboardX in c:\\users\\ghost\\anaconda3\\envs\\news\\lib\\site-packages (from Nepali-nlp==0.0.0) (2.5.1)\n",
      "Requirement already satisfied: fairseq in c:\\users\\ghost\\anaconda3\\envs\\news\\lib\\site-packages (from Nepali-nlp==0.0.0) (0.12.2)\n",
      "Requirement already satisfied: opencv-python in c:\\users\\ghost\\anaconda3\\envs\\news\\lib\\site-packages (from Nepali-nlp==0.0.0) (4.6.0.66)\n",
      "Requirement already satisfied: transformers in c:\\users\\ghost\\anaconda3\\envs\\news\\lib\\site-packages (from Nepali-nlp==0.0.0) (4.25.1)\n",
      "Requirement already satisfied: six>=1.5.0 in c:\\users\\ghost\\anaconda3\\envs\\news\\lib\\site-packages (from gensim==3.7.3->Nepali-nlp==0.0.0) (1.16.0)\n",
      "Requirement already satisfied: scipy>=0.18.1 in c:\\users\\ghost\\anaconda3\\envs\\news\\lib\\site-packages (from gensim==3.7.3->Nepali-nlp==0.0.0) (1.9.3)\n",
      "Requirement already satisfied: smart-open>=1.7.0 in c:\\users\\ghost\\anaconda3\\envs\\news\\lib\\site-packages (from gensim==3.7.3->Nepali-nlp==0.0.0) (6.2.0)\n",
      "Requirement already satisfied: numpy>=1.11.3 in c:\\users\\ghost\\anaconda3\\envs\\news\\lib\\site-packages (from gensim==3.7.3->Nepali-nlp==0.0.0) (1.23.5)\n",
      "Requirement already satisfied: certifi>=2017.4.17 in c:\\users\\ghost\\anaconda3\\envs\\news\\lib\\site-packages (from requests==2.22.0->Nepali-nlp==0.0.0) (2022.12.7)\n",
      "Requirement already satisfied: urllib3!=1.25.0,!=1.25.1,<1.26,>=1.21.1 in c:\\users\\ghost\\anaconda3\\envs\\news\\lib\\site-packages (from requests==2.22.0->Nepali-nlp==0.0.0) (1.25.11)\n",
      "Requirement already satisfied: idna<2.9,>=2.5 in c:\\users\\ghost\\anaconda3\\envs\\news\\lib\\site-packages (from requests==2.22.0->Nepali-nlp==0.0.0) (2.8)\n",
      "Requirement already satisfied: chardet<3.1.0,>=3.0.2 in c:\\users\\ghost\\anaconda3\\envs\\news\\lib\\site-packages (from requests==2.22.0->Nepali-nlp==0.0.0) (3.0.4)\n",
      "Requirement already satisfied: nltk==3.4.5 in c:\\users\\ghost\\anaconda3\\envs\\news\\lib\\site-packages (from spello==1.2.0->Nepali-nlp==0.0.0) (3.4.5)\n",
      "Requirement already satisfied: soupsieve>1.2 in c:\\users\\ghost\\anaconda3\\envs\\news\\lib\\site-packages (from beautifulsoup4->Nepali-nlp==0.0.0) (2.3.2.post1)\n",
      "Requirement already satisfied: sacrebleu>=1.4.12 in c:\\users\\ghost\\anaconda3\\envs\\news\\lib\\site-packages (from fairseq->Nepali-nlp==0.0.0) (2.3.1)\n",
      "Requirement already satisfied: torchaudio>=0.8.0 in c:\\users\\ghost\\anaconda3\\envs\\news\\lib\\site-packages (from fairseq->Nepali-nlp==0.0.0) (0.13.0)\n",
      "Requirement already satisfied: cython in c:\\users\\ghost\\anaconda3\\envs\\news\\lib\\site-packages (from fairseq->Nepali-nlp==0.0.0) (0.29.32)\n",
      "Requirement already satisfied: bitarray in c:\\users\\ghost\\anaconda3\\envs\\news\\lib\\site-packages (from fairseq->Nepali-nlp==0.0.0) (2.6.0)\n",
      "Requirement already satisfied: regex in c:\\users\\ghost\\anaconda3\\envs\\news\\lib\\site-packages (from fairseq->Nepali-nlp==0.0.0) (2022.10.31)\n",
      "Requirement already satisfied: hydra-core<1.1,>=1.0.7 in c:\\users\\ghost\\anaconda3\\envs\\news\\lib\\site-packages (from fairseq->Nepali-nlp==0.0.0) (1.0.7)\n",
      "Requirement already satisfied: tqdm in c:\\users\\ghost\\anaconda3\\envs\\news\\lib\\site-packages (from fairseq->Nepali-nlp==0.0.0) (4.64.1)\n",
      "Requirement already satisfied: cffi in c:\\users\\ghost\\anaconda3\\envs\\news\\lib\\site-packages (from fairseq->Nepali-nlp==0.0.0) (1.15.1)\n",
      "Requirement already satisfied: torch in c:\\users\\ghost\\anaconda3\\envs\\news\\lib\\site-packages (from fairseq->Nepali-nlp==0.0.0) (1.13.0)\n",
      "Requirement already satisfied: omegaconf<2.1 in c:\\users\\ghost\\anaconda3\\envs\\news\\lib\\site-packages (from fairseq->Nepali-nlp==0.0.0) (2.0.6)\n",
      "Requirement already satisfied: langdetect>=1.0.7 in c:\\users\\ghost\\anaconda3\\envs\\news\\lib\\site-packages (from news-please->Nepali-nlp==0.0.0) (1.0.9)\n",
      "Requirement already satisfied: lxml>=3.3.5 in c:\\users\\ghost\\anaconda3\\envs\\news\\lib\\site-packages (from news-please->Nepali-nlp==0.0.0) (4.9.1)\n",
      "Requirement already satisfied: pywin32>=220 in c:\\users\\ghost\\anaconda3\\envs\\news\\lib\\site-packages (from news-please->Nepali-nlp==0.0.0) (305)\n",
      "Requirement already satisfied: psycopg2-binary>=2.8.4 in c:\\users\\ghost\\anaconda3\\envs\\news\\lib\\site-packages (from news-please->Nepali-nlp==0.0.0) (2.9.5)\n",
      "Requirement already satisfied: cchardet>=2.1.7 in c:\\users\\ghost\\anaconda3\\envs\\news\\lib\\site-packages (from news-please->Nepali-nlp==0.0.0) (2.1.7)\n",
      "Requirement already satisfied: hurry.filesize>=0.9 in c:\\users\\ghost\\anaconda3\\envs\\news\\lib\\site-packages (from news-please->Nepali-nlp==0.0.0) (0.9)\n",
      "Requirement already satisfied: readability-lxml>=0.6.2 in c:\\users\\ghost\\anaconda3\\envs\\news\\lib\\site-packages (from news-please->Nepali-nlp==0.0.0) (0.8.1)\n",
      "Requirement already satisfied: elasticsearch>=2.4 in c:\\users\\ghost\\anaconda3\\envs\\news\\lib\\site-packages (from news-please->Nepali-nlp==0.0.0) (7.17.7)\n",
      "Requirement already satisfied: ago>=0.0.9 in c:\\users\\ghost\\anaconda3\\envs\\news\\lib\\site-packages (from news-please->Nepali-nlp==0.0.0) (0.0.95)\n",
      "Requirement already satisfied: PyMySQL>=0.7.9 in c:\\users\\ghost\\anaconda3\\envs\\news\\lib\\site-packages (from news-please->Nepali-nlp==0.0.0) (1.0.2)\n",
      "Requirement already satisfied: bs4 in c:\\users\\ghost\\anaconda3\\envs\\news\\lib\\site-packages (from news-please->Nepali-nlp==0.0.0) (0.0.1)\n",
      "Requirement already satisfied: awscli>=1.11.117 in c:\\users\\ghost\\anaconda3\\envs\\news\\lib\\site-packages (from news-please->Nepali-nlp==0.0.0) (1.27.25)\n",
      "Requirement already satisfied: Scrapy>=1.1.0 in c:\\users\\ghost\\anaconda3\\envs\\news\\lib\\site-packages (from news-please->Nepali-nlp==0.0.0) (2.7.1)\n",
      "Requirement already satisfied: warcio>=1.3.3 in c:\\users\\ghost\\anaconda3\\envs\\news\\lib\\site-packages (from news-please->Nepali-nlp==0.0.0) (1.7.4)\n",
      "Requirement already satisfied: newspaper3k>=0.2.8 in c:\\users\\ghost\\anaconda3\\envs\\news\\lib\\site-packages (from news-please->Nepali-nlp==0.0.0) (0.2.8)\n",
      "Requirement already satisfied: python-dateutil>=2.4.0 in c:\\users\\ghost\\anaconda3\\envs\\news\\lib\\site-packages (from news-please->Nepali-nlp==0.0.0) (2.8.2)\n",
      "Requirement already satisfied: dotmap>=1.2.17 in c:\\users\\ghost\\anaconda3\\envs\\news\\lib\\site-packages (from news-please->Nepali-nlp==0.0.0) (1.3.30)\n",
      "Requirement already satisfied: plac>=0.9.6 in c:\\users\\ghost\\anaconda3\\envs\\news\\lib\\site-packages (from news-please->Nepali-nlp==0.0.0) (1.3.5)\n",
      "Requirement already satisfied: PyDispatcher>=2.0.5 in c:\\users\\ghost\\anaconda3\\envs\\news\\lib\\site-packages (from news-please->Nepali-nlp==0.0.0) (2.0.6)\n",
      "Requirement already satisfied: hjson>=1.5.8 in c:\\users\\ghost\\anaconda3\\envs\\news\\lib\\site-packages (from news-please->Nepali-nlp==0.0.0) (3.1.0)\n",
      "Requirement already satisfied: progressbar2 in c:\\users\\ghost\\anaconda3\\envs\\news\\lib\\site-packages (from pydload->Nepali-nlp==0.0.0) (4.2.0)\n",
      "Requirement already satisfied: packaging>=21.3 in c:\\users\\ghost\\anaconda3\\envs\\news\\lib\\site-packages (from pytesseract->Nepali-nlp==0.0.0) (22.0)\n",
      "Requirement already satisfied: Pillow>=8.0.0 in c:\\users\\ghost\\anaconda3\\envs\\news\\lib\\site-packages (from pytesseract->Nepali-nlp==0.0.0) (9.3.0)\n",
      "Requirement already satisfied: protobuf<=3.20.1,>=3.8.0 in c:\\users\\ghost\\anaconda3\\envs\\news\\lib\\site-packages (from tensorboardX->Nepali-nlp==0.0.0) (3.19.6)\n",
      "Requirement already satisfied: tensorflow-intel==2.11.0 in c:\\users\\ghost\\anaconda3\\envs\\news\\lib\\site-packages (from tensorflow->Nepali-nlp==0.0.0) (2.11.0)\n",
      "Requirement already satisfied: typing-extensions>=3.6.6 in c:\\users\\ghost\\anaconda3\\envs\\news\\lib\\site-packages (from tensorflow-intel==2.11.0->tensorflow->Nepali-nlp==0.0.0) (4.4.0)\n",
      "Requirement already satisfied: tensorboard<2.12,>=2.11 in c:\\users\\ghost\\anaconda3\\envs\\news\\lib\\site-packages (from tensorflow-intel==2.11.0->tensorflow->Nepali-nlp==0.0.0) (2.11.0)\n",
      "Requirement already satisfied: tensorflow-io-gcs-filesystem>=0.23.1 in c:\\users\\ghost\\anaconda3\\envs\\news\\lib\\site-packages (from tensorflow-intel==2.11.0->tensorflow->Nepali-nlp==0.0.0) (0.28.0)\n",
      "Requirement already satisfied: opt-einsum>=2.3.2 in c:\\users\\ghost\\anaconda3\\envs\\news\\lib\\site-packages (from tensorflow-intel==2.11.0->tensorflow->Nepali-nlp==0.0.0) (3.3.0)\n",
      "Requirement already satisfied: grpcio<2.0,>=1.24.3 in c:\\users\\ghost\\anaconda3\\envs\\news\\lib\\site-packages (from tensorflow-intel==2.11.0->tensorflow->Nepali-nlp==0.0.0) (1.51.1)\n",
      "Requirement already satisfied: keras<2.12,>=2.11.0 in c:\\users\\ghost\\anaconda3\\envs\\news\\lib\\site-packages (from tensorflow-intel==2.11.0->tensorflow->Nepali-nlp==0.0.0) (2.11.0)\n",
      "Requirement already satisfied: gast<=0.4.0,>=0.2.1 in c:\\users\\ghost\\anaconda3\\envs\\news\\lib\\site-packages (from tensorflow-intel==2.11.0->tensorflow->Nepali-nlp==0.0.0) (0.4.0)\n",
      "Requirement already satisfied: termcolor>=1.1.0 in c:\\users\\ghost\\anaconda3\\envs\\news\\lib\\site-packages (from tensorflow-intel==2.11.0->tensorflow->Nepali-nlp==0.0.0) (2.1.1)\n",
      "Requirement already satisfied: astunparse>=1.6.0 in c:\\users\\ghost\\anaconda3\\envs\\news\\lib\\site-packages (from tensorflow-intel==2.11.0->tensorflow->Nepali-nlp==0.0.0) (1.6.3)\n",
      "Requirement already satisfied: flatbuffers>=2.0 in c:\\users\\ghost\\anaconda3\\envs\\news\\lib\\site-packages (from tensorflow-intel==2.11.0->tensorflow->Nepali-nlp==0.0.0) (22.12.6)\n",
      "Requirement already satisfied: libclang>=13.0.0 in c:\\users\\ghost\\anaconda3\\envs\\news\\lib\\site-packages (from tensorflow-intel==2.11.0->tensorflow->Nepali-nlp==0.0.0) (14.0.6)\n",
      "Requirement already satisfied: h5py>=2.9.0 in c:\\users\\ghost\\anaconda3\\envs\\news\\lib\\site-packages (from tensorflow-intel==2.11.0->tensorflow->Nepali-nlp==0.0.0) (3.7.0)\n",
      "Requirement already satisfied: wrapt>=1.11.0 in c:\\users\\ghost\\anaconda3\\envs\\news\\lib\\site-packages (from tensorflow-intel==2.11.0->tensorflow->Nepali-nlp==0.0.0) (1.14.1)\n",
      "Requirement already satisfied: tensorflow-estimator<2.12,>=2.11.0 in c:\\users\\ghost\\anaconda3\\envs\\news\\lib\\site-packages (from tensorflow-intel==2.11.0->tensorflow->Nepali-nlp==0.0.0) (2.11.0)\n",
      "Requirement already satisfied: absl-py>=1.0.0 in c:\\users\\ghost\\anaconda3\\envs\\news\\lib\\site-packages (from tensorflow-intel==2.11.0->tensorflow->Nepali-nlp==0.0.0) (1.3.0)\n",
      "Requirement already satisfied: setuptools in c:\\users\\ghost\\anaconda3\\envs\\news\\lib\\site-packages (from tensorflow-intel==2.11.0->tensorflow->Nepali-nlp==0.0.0) (65.5.0)\n",
      "Requirement already satisfied: google-pasta>=0.1.1 in c:\\users\\ghost\\anaconda3\\envs\\news\\lib\\site-packages (from tensorflow-intel==2.11.0->tensorflow->Nepali-nlp==0.0.0) (0.2.0)\n",
      "Requirement already satisfied: pyyaml>=5.1 in c:\\users\\ghost\\anaconda3\\envs\\news\\lib\\site-packages (from transformers->Nepali-nlp==0.0.0) (5.4.1)\n",
      "Requirement already satisfied: filelock in c:\\users\\ghost\\anaconda3\\envs\\news\\lib\\site-packages (from transformers->Nepali-nlp==0.0.0) (3.8.2)\n",
      "Requirement already satisfied: tokenizers!=0.11.3,<0.14,>=0.11.1 in c:\\users\\ghost\\anaconda3\\envs\\news\\lib\\site-packages (from transformers->Nepali-nlp==0.0.0) (0.13.2)\n",
      "Requirement already satisfied: huggingface-hub<1.0,>=0.10.0 in c:\\users\\ghost\\anaconda3\\envs\\news\\lib\\site-packages (from transformers->Nepali-nlp==0.0.0) (0.11.1)\n",
      "Requirement already satisfied: s3transfer<0.7.0,>=0.6.0 in c:\\users\\ghost\\anaconda3\\envs\\news\\lib\\site-packages (from awscli>=1.11.117->news-please->Nepali-nlp==0.0.0) (0.6.0)\n",
      "Requirement already satisfied: botocore==1.29.25 in c:\\users\\ghost\\anaconda3\\envs\\news\\lib\\site-packages (from awscli>=1.11.117->news-please->Nepali-nlp==0.0.0) (1.29.25)\n",
      "Collecting colorama<0.4.5,>=0.2.5\n",
      "  Using cached colorama-0.4.4-py2.py3-none-any.whl (16 kB)\n",
      "Requirement already satisfied: docutils<0.17,>=0.10 in c:\\users\\ghost\\anaconda3\\envs\\news\\lib\\site-packages (from awscli>=1.11.117->news-please->Nepali-nlp==0.0.0) (0.16)\n",
      "Requirement already satisfied: rsa<4.8,>=3.1.2 in c:\\users\\ghost\\anaconda3\\envs\\news\\lib\\site-packages (from awscli>=1.11.117->news-please->Nepali-nlp==0.0.0) (4.7.2)\n",
      "Requirement already satisfied: jmespath<2.0.0,>=0.7.1 in c:\\users\\ghost\\anaconda3\\envs\\news\\lib\\site-packages (from botocore==1.29.25->awscli>=1.11.117->news-please->Nepali-nlp==0.0.0) (1.0.1)\n",
      "Requirement already satisfied: importlib-resources in c:\\users\\ghost\\anaconda3\\envs\\news\\lib\\site-packages (from hydra-core<1.1,>=1.0.7->fairseq->Nepali-nlp==0.0.0) (5.10.1)\n",
      "Requirement already satisfied: antlr4-python3-runtime==4.8 in c:\\users\\ghost\\anaconda3\\envs\\news\\lib\\site-packages (from hydra-core<1.1,>=1.0.7->fairseq->Nepali-nlp==0.0.0) (4.8)\n",
      "Requirement already satisfied: jieba3k>=0.35.1 in c:\\users\\ghost\\anaconda3\\envs\\news\\lib\\site-packages (from newspaper3k>=0.2.8->news-please->Nepali-nlp==0.0.0) (0.35.1)\n",
      "Requirement already satisfied: tldextract>=2.0.1 in c:\\users\\ghost\\anaconda3\\envs\\news\\lib\\site-packages (from newspaper3k>=0.2.8->news-please->Nepali-nlp==0.0.0) (3.4.0)\n",
      "Requirement already satisfied: tinysegmenter==0.3 in c:\\users\\ghost\\anaconda3\\envs\\news\\lib\\site-packages (from newspaper3k>=0.2.8->news-please->Nepali-nlp==0.0.0) (0.3)\n",
      "Requirement already satisfied: feedfinder2>=0.0.4 in c:\\users\\ghost\\anaconda3\\envs\\news\\lib\\site-packages (from newspaper3k>=0.2.8->news-please->Nepali-nlp==0.0.0) (0.0.4)\n",
      "Requirement already satisfied: feedparser>=5.2.1 in c:\\users\\ghost\\anaconda3\\envs\\news\\lib\\site-packages (from newspaper3k>=0.2.8->news-please->Nepali-nlp==0.0.0) (6.0.10)\n",
      "Requirement already satisfied: cssselect>=0.9.2 in c:\\users\\ghost\\anaconda3\\envs\\news\\lib\\site-packages (from newspaper3k>=0.2.8->news-please->Nepali-nlp==0.0.0) (1.2.0)\n",
      "Requirement already satisfied: tabulate>=0.8.9 in c:\\users\\ghost\\anaconda3\\envs\\news\\lib\\site-packages (from sacrebleu>=1.4.12->fairseq->Nepali-nlp==0.0.0) (0.9.0)\n",
      "Requirement already satisfied: portalocker in c:\\users\\ghost\\anaconda3\\envs\\news\\lib\\site-packages (from sacrebleu>=1.4.12->fairseq->Nepali-nlp==0.0.0) (2.6.0)\n",
      "Requirement already satisfied: itemloaders>=1.0.1 in c:\\users\\ghost\\anaconda3\\envs\\news\\lib\\site-packages (from Scrapy>=1.1.0->news-please->Nepali-nlp==0.0.0) (1.0.6)\n",
      "Requirement already satisfied: service-identity>=18.1.0 in c:\\users\\ghost\\anaconda3\\envs\\news\\lib\\site-packages (from Scrapy>=1.1.0->news-please->Nepali-nlp==0.0.0) (21.1.0)\n",
      "Requirement already satisfied: w3lib>=1.17.0 in c:\\users\\ghost\\anaconda3\\envs\\news\\lib\\site-packages (from Scrapy>=1.1.0->news-please->Nepali-nlp==0.0.0) (2.1.0)\n",
      "Requirement already satisfied: zope.interface>=5.1.0 in c:\\users\\ghost\\anaconda3\\envs\\news\\lib\\site-packages (from Scrapy>=1.1.0->news-please->Nepali-nlp==0.0.0) (5.5.2)\n",
      "Requirement already satisfied: queuelib>=1.4.2 in c:\\users\\ghost\\anaconda3\\envs\\news\\lib\\site-packages (from Scrapy>=1.1.0->news-please->Nepali-nlp==0.0.0) (1.6.2)\n",
      "Requirement already satisfied: pyOpenSSL>=21.0.0 in c:\\users\\ghost\\anaconda3\\envs\\news\\lib\\site-packages (from Scrapy>=1.1.0->news-please->Nepali-nlp==0.0.0) (22.1.0)\n",
      "Requirement already satisfied: protego>=0.1.15 in c:\\users\\ghost\\anaconda3\\envs\\news\\lib\\site-packages (from Scrapy>=1.1.0->news-please->Nepali-nlp==0.0.0) (0.2.1)\n",
      "Requirement already satisfied: parsel>=1.5.0 in c:\\users\\ghost\\anaconda3\\envs\\news\\lib\\site-packages (from Scrapy>=1.1.0->news-please->Nepali-nlp==0.0.0) (1.7.0)\n",
      "Requirement already satisfied: itemadapter>=0.1.0 in c:\\users\\ghost\\anaconda3\\envs\\news\\lib\\site-packages (from Scrapy>=1.1.0->news-please->Nepali-nlp==0.0.0) (0.7.0)\n",
      "Requirement already satisfied: cryptography>=3.3 in c:\\users\\ghost\\anaconda3\\envs\\news\\lib\\site-packages (from Scrapy>=1.1.0->news-please->Nepali-nlp==0.0.0) (38.0.4)\n",
      "Requirement already satisfied: Twisted>=18.9.0 in c:\\users\\ghost\\anaconda3\\envs\\news\\lib\\site-packages (from Scrapy>=1.1.0->news-please->Nepali-nlp==0.0.0) (22.10.0)\n",
      "Requirement already satisfied: pycparser in c:\\users\\ghost\\anaconda3\\envs\\news\\lib\\site-packages (from cffi->fairseq->Nepali-nlp==0.0.0) (2.21)\n",
      "Requirement already satisfied: python-utils>=3.0.0 in c:\\users\\ghost\\anaconda3\\envs\\news\\lib\\site-packages (from progressbar2->pydload->Nepali-nlp==0.0.0) (3.4.5)\n",
      "Requirement already satisfied: wheel<1.0,>=0.23.0 in c:\\users\\ghost\\anaconda3\\envs\\news\\lib\\site-packages (from astunparse>=1.6.0->tensorflow-intel==2.11.0->tensorflow->Nepali-nlp==0.0.0) (0.37.1)\n",
      "Requirement already satisfied: sgmllib3k in c:\\users\\ghost\\anaconda3\\envs\\news\\lib\\site-packages (from feedparser>=5.2.1->newspaper3k>=0.2.8->news-please->Nepali-nlp==0.0.0) (1.0.0)\n",
      "Requirement already satisfied: pyasn1>=0.1.3 in c:\\users\\ghost\\anaconda3\\envs\\news\\lib\\site-packages (from rsa<4.8,>=3.1.2->awscli>=1.11.117->news-please->Nepali-nlp==0.0.0) (0.4.8)\n",
      "Requirement already satisfied: attrs>=19.1.0 in c:\\users\\ghost\\anaconda3\\envs\\news\\lib\\site-packages (from service-identity>=18.1.0->Scrapy>=1.1.0->news-please->Nepali-nlp==0.0.0) (22.1.0)\n",
      "Requirement already satisfied: pyasn1-modules in c:\\users\\ghost\\anaconda3\\envs\\news\\lib\\site-packages (from service-identity>=18.1.0->Scrapy>=1.1.0->news-please->Nepali-nlp==0.0.0) (0.2.8)\n",
      "Requirement already satisfied: google-auth-oauthlib<0.5,>=0.4.1 in c:\\users\\ghost\\anaconda3\\envs\\news\\lib\\site-packages (from tensorboard<2.12,>=2.11->tensorflow-intel==2.11.0->tensorflow->Nepali-nlp==0.0.0) (0.4.6)\n",
      "Requirement already satisfied: markdown>=2.6.8 in c:\\users\\ghost\\anaconda3\\envs\\news\\lib\\site-packages (from tensorboard<2.12,>=2.11->tensorflow-intel==2.11.0->tensorflow->Nepali-nlp==0.0.0) (3.4.1)\n",
      "Requirement already satisfied: google-auth<3,>=1.6.3 in c:\\users\\ghost\\anaconda3\\envs\\news\\lib\\site-packages (from tensorboard<2.12,>=2.11->tensorflow-intel==2.11.0->tensorflow->Nepali-nlp==0.0.0) (2.15.0)\n",
      "Requirement already satisfied: werkzeug>=1.0.1 in c:\\users\\ghost\\anaconda3\\envs\\news\\lib\\site-packages (from tensorboard<2.12,>=2.11->tensorflow-intel==2.11.0->tensorflow->Nepali-nlp==0.0.0) (2.2.2)\n",
      "Requirement already satisfied: tensorboard-plugin-wit>=1.6.0 in c:\\users\\ghost\\anaconda3\\envs\\news\\lib\\site-packages (from tensorboard<2.12,>=2.11->tensorflow-intel==2.11.0->tensorflow->Nepali-nlp==0.0.0) (1.8.1)\n",
      "Requirement already satisfied: tensorboard-data-server<0.7.0,>=0.6.0 in c:\\users\\ghost\\anaconda3\\envs\\news\\lib\\site-packages (from tensorboard<2.12,>=2.11->tensorflow-intel==2.11.0->tensorflow->Nepali-nlp==0.0.0) (0.6.1)\n",
      "Requirement already satisfied: requests-file>=1.4 in c:\\users\\ghost\\anaconda3\\envs\\news\\lib\\site-packages (from tldextract>=2.0.1->newspaper3k>=0.2.8->news-please->Nepali-nlp==0.0.0) (1.5.1)\n",
      "Requirement already satisfied: twisted-iocpsupport<2,>=1.0.2 in c:\\users\\ghost\\anaconda3\\envs\\news\\lib\\site-packages (from Twisted>=18.9.0->Scrapy>=1.1.0->news-please->Nepali-nlp==0.0.0) (1.0.2)\n",
      "Requirement already satisfied: incremental>=21.3.0 in c:\\users\\ghost\\anaconda3\\envs\\news\\lib\\site-packages (from Twisted>=18.9.0->Scrapy>=1.1.0->news-please->Nepali-nlp==0.0.0) (22.10.0)\n",
      "Requirement already satisfied: constantly>=15.1 in c:\\users\\ghost\\anaconda3\\envs\\news\\lib\\site-packages (from Twisted>=18.9.0->Scrapy>=1.1.0->news-please->Nepali-nlp==0.0.0) (15.1.0)\n",
      "Requirement already satisfied: Automat>=0.8.0 in c:\\users\\ghost\\anaconda3\\envs\\news\\lib\\site-packages (from Twisted>=18.9.0->Scrapy>=1.1.0->news-please->Nepali-nlp==0.0.0) (22.10.0)\n",
      "Requirement already satisfied: hyperlink>=17.1.1 in c:\\users\\ghost\\anaconda3\\envs\\news\\lib\\site-packages (from Twisted>=18.9.0->Scrapy>=1.1.0->news-please->Nepali-nlp==0.0.0) (21.0.0)\n",
      "Requirement already satisfied: zipp>=3.1.0 in c:\\users\\ghost\\anaconda3\\envs\\news\\lib\\site-packages (from importlib-resources->hydra-core<1.1,>=1.0.7->fairseq->Nepali-nlp==0.0.0) (3.11.0)\n",
      "Requirement already satisfied: cachetools<6.0,>=2.0.0 in c:\\users\\ghost\\anaconda3\\envs\\news\\lib\\site-packages (from google-auth<3,>=1.6.3->tensorboard<2.12,>=2.11->tensorflow-intel==2.11.0->tensorflow->Nepali-nlp==0.0.0) (5.2.0)\n",
      "Requirement already satisfied: requests-oauthlib>=0.7.0 in c:\\users\\ghost\\anaconda3\\envs\\news\\lib\\site-packages (from google-auth-oauthlib<0.5,>=0.4.1->tensorboard<2.12,>=2.11->tensorflow-intel==2.11.0->tensorflow->Nepali-nlp==0.0.0) (1.3.1)\n",
      "Requirement already satisfied: importlib-metadata>=4.4 in c:\\users\\ghost\\anaconda3\\envs\\news\\lib\\site-packages (from markdown>=2.6.8->tensorboard<2.12,>=2.11->tensorflow-intel==2.11.0->tensorflow->Nepali-nlp==0.0.0) (5.1.0)\n",
      "Requirement already satisfied: MarkupSafe>=2.1.1 in c:\\users\\ghost\\anaconda3\\envs\\news\\lib\\site-packages (from werkzeug>=1.0.1->tensorboard<2.12,>=2.11->tensorflow-intel==2.11.0->tensorflow->Nepali-nlp==0.0.0) (2.1.1)\n",
      "Requirement already satisfied: oauthlib>=3.0.0 in c:\\users\\ghost\\anaconda3\\envs\\news\\lib\\site-packages (from requests-oauthlib>=0.7.0->google-auth-oauthlib<0.5,>=0.4.1->tensorboard<2.12,>=2.11->tensorflow-intel==2.11.0->tensorflow->Nepali-nlp==0.0.0) (3.2.2)\n",
      "Building wheels for collected packages: Nepali-nlp\n",
      "  Building wheel for Nepali-nlp (setup.py): started\n",
      "  Building wheel for Nepali-nlp (setup.py): finished with status 'done'\n",
      "  Created wheel for Nepali-nlp: filename=Nepali_nlp-0.0.0-py3-none-any.whl size=28240 sha256=cb61b94c3625bc1a8018a0dbc8d118b1ba0b7e7f0b70692bbdd45aa0fafaa280\n",
      "  Stored in directory: C:\\Users\\Ghost\\AppData\\Local\\Temp\\pip-ephem-wheel-cache-daga06fm\\wheels\\e3\\0a\\63\\f5ee5a02c993624e42e080080036183c813e144d171d65ee01\n",
      "Successfully built Nepali-nlp\n",
      "Installing collected packages: colorama, Nepali-nlp\n",
      "  Attempting uninstall: colorama\n",
      "    Found existing installation: colorama 0.4.6\n",
      "    Uninstalling colorama-0.4.6:\n",
      "      Successfully uninstalled colorama-0.4.6\n",
      "Successfully installed Nepali-nlp-0.0.0 colorama-0.4.4\n"
     ]
    }
   ],
   "source": [
    "!pip install git+https://github.com/sushil79g/Nepali_nlp.git"
   ]
  },
  {
   "cell_type": "code",
   "execution_count": 8,
   "metadata": {},
   "outputs": [
    {
     "name": "stderr",
     "output_type": "stream",
     "text": [
      "Downloading: 100%|██████████| 1.43k/1.43k [00:00<00:00, 478kB/s]\n",
      "c:\\Users\\Ghost\\anaconda3\\envs\\news\\lib\\site-packages\\huggingface_hub\\file_download.py:127: UserWarning: `huggingface_hub` cache-system uses symlinks by default to efficiently store duplicated files but your machine does not support them in C:\\Users\\Ghost\\.cache\\huggingface\\hub. Caching files will still work but in a degraded version that might require more space on your disk. This warning can be disabled by setting the `HF_HUB_DISABLE_SYMLINKS_WARNING` environment variable. For more details, see https://huggingface.co/docs/huggingface_hub/how-to-cache#limitations.\n",
      "To support symlinks on Windows, you either need to activate Developer Mode or to run Python as an administrator. In order to see activate developer mode, see this article: https://docs.microsoft.com/en-us/windows/apps/get-started/enable-your-device-for-development\n",
      "  warnings.warn(message)\n",
      "Downloading: 100%|██████████| 2.44G/2.44G [32:49<00:00, 1.24MB/s]   \n",
      "Downloading: 100%|██████████| 529/529 [00:00<00:00, 84.0kB/s]\n",
      "Downloading: 100%|██████████| 5.07M/5.07M [00:01<00:00, 3.77MB/s]\n",
      "Downloading: 100%|██████████| 649/649 [00:00<00:00, 83.0kB/s]\n",
      "c:\\Users\\Ghost\\anaconda3\\envs\\news\\lib\\site-packages\\transformers\\generation\\utils.py:1387: UserWarning: Neither `max_length` nor `max_new_tokens` has been set, `max_length` will default to 200 (`self.config.max_length`). Controlling `max_length` via the config is deprecated and `max_length` will be removed from the config in v5 of Transformers -- we recommend using `max_new_tokens` to control the maximum length of the generation.\n",
      "  warnings.warn(\n"
     ]
    }
   ],
   "source": [
    "from Nepali_nlp import LanguageTranslation\n",
    "conv = LanguageTranslation()\n",
    "nepali_text = \"प्रधानमन्त्री निवास बालुवाटारमा आज बिहान बसेको बैठकमा आसन्न स्थानीय तहको निर्वाचनको विषयमा छलफल भएको थियो । छलफलपछि सरकारका प्रवक्ता ज्ञानेन्द्रबहादुर कार्कीले निर्वाचन समयमै सम्पन्न गर्न आफूहरु सहमत भएको सन्चारकर्मीलाई जानकारी दिए ।\"\n",
    "english_text = \"You already know that a data class is just a regular class. That means that you can freely add your own methods to a data class. As an example, let us calculate the distance between one position and another, along the Earth’s surface\"\n",
    "\n",
    "output = conv.to_nepali(english_text) #output-> ['तपाईँले पहिले नै जान्नु भएको छ कि डेटा वर्ग एउटा नियमित वर्ग मात्र हो । यसको अर्थ तपाईँले डेटा वर्गमा तपाईँको आफ्नै विधिहरू स्वतन्त्र रूपमा थप्न सक्नुहुन्छ । उदाहरणका लागि, हामीलाई पृथ्वीको सतहमा एक स्थान र अर्को बीचको दूरी गणना गर्नुहोस्']\n",
    "\n",
    "output = conv.to_english(nepali_text) #output-> ['After the meeting, government spokesman Gyanendra Bahadur Patel informed the media that they agreed to hold elections on time.']"
   ]
  },
  {
   "cell_type": "code",
   "execution_count": 1,
   "metadata": {},
   "outputs": [
    {
     "name": "stderr",
     "output_type": "stream",
     "text": [
      "c:\\Users\\Ghost\\anaconda3\\envs\\news\\lib\\site-packages\\tqdm\\auto.py:22: TqdmWarning: IProgress not found. Please update jupyter and ipywidgets. See https://ipywidgets.readthedocs.io/en/stable/user_install.html\n",
      "  from .autonotebook import tqdm as notebook_tqdm\n"
     ]
    }
   ],
   "source": [
    "import Nepali_nlp\n"
   ]
  },
  {
   "cell_type": "code",
   "execution_count": 1,
   "metadata": {},
   "outputs": [
    {
     "name": "stderr",
     "output_type": "stream",
     "text": [
      "c:\\Users\\Ghost\\anaconda3\\envs\\news\\lib\\site-packages\\tqdm\\auto.py:22: TqdmWarning: IProgress not found. Please update jupyter and ipywidgets. See https://ipywidgets.readthedocs.io/en/stable/user_install.html\n",
      "  from .autonotebook import tqdm as notebook_tqdm\n"
     ]
    }
   ],
   "source": [
    "from Nepali_nlp import LanguageTranslation\n",
    "conv = LanguageTranslation()\n",
    " #output-> ['After the meeting, government spokesman Gyanendra Bahadur Patel informed the media that they agreed to hold elections on time.']"
   ]
  },
  {
   "cell_type": "code",
   "execution_count": 8,
   "metadata": {},
   "outputs": [],
   "source": [
    "nepali_text = \"प्रधानमन्त्री निवास बालुवाटारमा आज बिहान बसेको बैठकमा आसन्न स्थानीय तहको निर्वाचनको विषयमा छलफल भएको थियो । छलफलपछि सरकारका प्रवक्ता ज्ञानेन्द्रबहादुर कार्कीले निर्वाचन समयमै सम्पन्न गर्न आफूहरु सहमत भएको सन्चारकर्मीलाई जानकारी दिए ।\"\n",
    "english_text = \"You already's know that a data class is just a regular class. That means that you can freely add your own methods to a data class. As an example, let us calculate the distance between one position and another, along the Earth’s surface\"\n",
    "\n",
    "output = conv.to_english(english_text) #output-> ['तपाईँले पहिले नै जान्नु भएको छ कि डेटा वर्ग एउटा नियमित वर्ग मात्र हो । यसको अर्थ तपाईँले डेटा वर्गमा तपाईँको आफ्नै विधिहरू स्वतन्त्र रूपमा थप्न सक्नुहुन्छ । उदाहरणका लागि, हामीलाई पृथ्वीको सतहमा एक स्थान र अर्को बीचको दूरी गणना गर्नुहोस्']\n"
   ]
  },
  {
   "cell_type": "code",
   "execution_count": 2,
   "metadata": {},
   "outputs": [],
   "source": [
    "nepali_text = \"प्रधानमन्त्री निवास बालुवाटारमा आज बिहान बसेको बैठकमा आसन्न स्थानीय तहको निर्वाचनको विषयमा छलफल भएको थियो । छलफलपछि सरकारका प्रवक्ता ज्ञानेन्द्रबहादुर कार्कीले निर्वाचन समयमै सम्पन्न गर्न आफूहरु सहमत भएको सन्चारकर्मीलाई जानकारी दिए ।\""
   ]
  },
  {
   "cell_type": "code",
   "execution_count": 3,
   "metadata": {},
   "outputs": [
    {
     "data": {
      "text/plain": [
       "['After the meeting, government spokesman Gyanendra Bahadur Patel informed the media that they agreed to hold elections on time.']"
      ]
     },
     "execution_count": 3,
     "metadata": {},
     "output_type": "execute_result"
    }
   ],
   "source": [
    "conv.to_english(nepali_text)\n"
   ]
  },
  {
   "cell_type": "code",
   "execution_count": 2,
   "metadata": {},
   "outputs": [
    {
     "data": {
      "text/plain": [
       "233"
      ]
     },
     "execution_count": 2,
     "metadata": {},
     "output_type": "execute_result"
    }
   ],
   "source": [
    "len(nepali_text)"
   ]
  },
  {
   "cell_type": "code",
   "execution_count": 9,
   "metadata": {},
   "outputs": [
    {
     "data": {
      "text/plain": [
       "[\"A meeting was held this morning at the prime minister's residence, Balawattar, to discuss the elections at the local level.\"]"
      ]
     },
     "execution_count": 9,
     "metadata": {},
     "output_type": "execute_result"
    }
   ],
   "source": [
    "conv.to_english(nepali_text[0:int(len(nepali_text)/2)])\n"
   ]
  },
  {
   "cell_type": "code",
   "execution_count": 15,
   "metadata": {},
   "outputs": [],
   "source": [
    "def count_word(word):\n",
    "    cnt=word.count(\" \")+1\n",
    "    return cnt"
   ]
  },
  {
   "cell_type": "code",
   "execution_count": 16,
   "metadata": {},
   "outputs": [
    {
     "data": {
      "text/plain": [
       "32"
      ]
     },
     "execution_count": 16,
     "metadata": {},
     "output_type": "execute_result"
    }
   ],
   "source": [
    "count_word(nepali_text)"
   ]
  },
  {
   "cell_type": "code",
   "execution_count": 5,
   "metadata": {},
   "outputs": [],
   "source": [
    "cnt=nepali_text.count(\" \")+1"
   ]
  },
  {
   "cell_type": "code",
   "execution_count": 11,
   "metadata": {},
   "outputs": [],
   "source": [
    "from nltk.corpus import stopwords\n",
    "from nltk.tokenize import word_tokenize"
   ]
  },
  {
   "cell_type": "code",
   "execution_count": 22,
   "metadata": {},
   "outputs": [],
   "source": [
    "#Process Nepali text\n",
    "def ProcessNepaliText(text):\n",
    "    #Remove Stop Words\n",
    "    stop_words=set(stopwords.words('nepali'))\n",
    "    word_tokens = word_tokenize(text)\n",
    "    filtered_list = [w for w in word_tokens if not w in stop_words]\n",
    "    filtered_string=' '.join(filtered_list)\n",
    "    return filtered_string"
   ]
  },
  {
   "cell_type": "code",
   "execution_count": 23,
   "metadata": {},
   "outputs": [
    {
     "name": "stdout",
     "output_type": "stream",
     "text": [
      "32\n",
      "27\n"
     ]
    }
   ],
   "source": [
    "print(count_word(nepali_text))\n",
    "nepali_text_stop=ProcessNepaliText(nepali_text)\n",
    "print(count_word(nepali_text_stop))"
   ]
  },
  {
   "cell_type": "code",
   "execution_count": 24,
   "metadata": {},
   "outputs": [
    {
     "name": "stdout",
     "output_type": "stream",
     "text": [
      "प्रधानमन्त्री निवास बालुवाटारमा आज बिहान बसेको बैठकमा आसन्न स्थानीय तहको निर्वाचनको विषयमा छलफल । छलफलपछि सरकारका प्रवक्ता ज्ञानेन्द्रबहादुर कार्कीले निर्वाचन समयमै सम्पन्न आफूहरु सहमत सन्चारकर्मीलाई जानकारी ।\n"
     ]
    }
   ],
   "source": [
    "print(nepali_text_stop)"
   ]
  },
  {
   "cell_type": "code",
   "execution_count": 25,
   "metadata": {},
   "outputs": [
    {
     "data": {
      "text/plain": [
       "['After the talks, government spokesman Gyanendra Bahadur Patel informed the media that they agreed to the elections be held on time.']"
      ]
     },
     "execution_count": 25,
     "metadata": {},
     "output_type": "execute_result"
    }
   ],
   "source": [
    "conv.to_english(nepali_text_stop)\n"
   ]
  },
  {
   "cell_type": "code",
   "execution_count": null,
   "metadata": {},
   "outputs": [],
   "source": []
  }
 ],
 "metadata": {
  "kernelspec": {
   "display_name": "news",
   "language": "python",
   "name": "python3"
  },
  "language_info": {
   "codemirror_mode": {
    "name": "ipython",
    "version": 3
   },
   "file_extension": ".py",
   "mimetype": "text/x-python",
   "name": "python",
   "nbconvert_exporter": "python",
   "pygments_lexer": "ipython3",
   "version": "3.8.15 (default, Nov 24 2022, 14:38:14) [MSC v.1916 64 bit (AMD64)]"
  },
  "orig_nbformat": 4,
  "vscode": {
   "interpreter": {
    "hash": "54d7853ee6fa0f00287d6366039c823ef0d7deed99bd833d3ec41cd5f7adce9b"
   }
  }
 },
 "nbformat": 4,
 "nbformat_minor": 2
}
